{
 "cells": [
  {
   "cell_type": "markdown",
   "id": "a46be2f1",
   "metadata": {},
   "source": [
    "# The v to h equation"
   ]
  },
  {
   "cell_type": "markdown",
   "id": "b766eeba",
   "metadata": {},
   "source": [
    "$h = \\sigma(v^TW+b$)"
   ]
  },
  {
   "cell_type": "markdown",
   "id": "57001a47",
   "metadata": {},
   "source": [
    "$v = \\sigma(Wh+a$)"
   ]
  },
  {
   "cell_type": "code",
   "execution_count": 1,
   "id": "25243a4f",
   "metadata": {},
   "outputs": [],
   "source": [
    "import numpy as np\n",
    "import matplotlib.pyplot as plt\n"
   ]
  },
  {
   "cell_type": "code",
   "execution_count": 23,
   "id": "e5f0faaa",
   "metadata": {},
   "outputs": [
    {
     "data": {
      "text/plain": [
       "[<matplotlib.lines.Line2D at 0x7f2e5564b2e0>]"
      ]
     },
     "execution_count": 23,
     "metadata": {},
     "output_type": "execute_result"
    },
    {
     "data": {
      "image/png": "[encoded data removed]",
      "text/plain": [
       "<Figure size 432x288 with 1 Axes>"
      ]
     },
     "metadata": {
      "needs_background": "light"
     },
     "output_type": "display_data"
    }
   ],
   "source": [
    "a = 90000\n",
    "b = np.arange(2,16)\n",
    "full_digits = np.floor(np.log(a)/np.log(b))\n",
    "leading_digit = np.floor(a/b**full_digits)+1\n",
    "d = b*full_digits + leading_digit\n",
    "plt.plot(b,d,'o')\n",
    "plt.plot(b,d,'--')\n",
    "#plt.yticks(labels = np.arange(10,30,4), ticks=np.arange(10,30,4));"
   ]
  },
  {
   "cell_type": "code",
   "execution_count": 11,
   "id": "cfd6d833",
   "metadata": {},
   "outputs": [
    {
     "data": {
      "text/plain": [
       "4.845098040014256"
      ]
     },
     "execution_count": 11,
     "metadata": {},
     "output_type": "execute_result"
    }
   ],
   "source": [
    "np.log(70000)/np.log(10)"
   ]
  },
  {
   "cell_type": "code",
   "execution_count": 27,
   "id": "1c6cadb7",
   "metadata": {},
   "outputs": [
    {
     "data": {
      "text/plain": [
       "[(2, 2.0),\n",
       " (3, 2.0),\n",
       " (4, 2.0),\n",
       " (5, 2.0),\n",
       " (6, 2.0),\n",
       " (7, 6.0),\n",
       " (8, 3.0),\n",
       " (9, 2.0),\n",
       " (10, 10.0),\n",
       " (11, 7.0),\n",
       " (12, 5.0),\n",
       " (13, 4.0),\n",
       " (14, 3.0),\n",
       " (15, 2.0)]"
      ]
     },
     "execution_count": 27,
     "metadata": {},
     "output_type": "execute_result"
    }
   ],
   "source": [
    "list(enumerate(leading_digit,2))"
   ]
  },
  {
   "cell_type": "code",
   "execution_count": 20,
   "id": "ab9470c1",
   "metadata": {},
   "outputs": [
    {
     "data": {
      "text/plain": [
       "array([1.37329102, 1.5241579 , 1.37329102, 1.152     , 1.92901235,\n",
       "       5.35491164, 2.74658203, 1.5241579 , 9.        , 6.1471211 ,\n",
       "       4.34027778, 3.15115017, 2.34277384, 1.77777778])"
      ]
     },
     "execution_count": 20,
     "metadata": {},
     "output_type": "execute_result"
    }
   ],
   "source": [
    "a/b**full_digits"
   ]
  },
  {
   "cell_type": "code",
   "execution_count": 26,
   "id": "caa7a015",
   "metadata": {},
   "outputs": [
    {
     "data": {
      "text/plain": [
       "array([1., 1., 1., 1., 1., 5., 2., 1., 9., 6., 4., 3., 2., 1.])"
      ]
     },
     "execution_count": 26,
     "metadata": {},
     "output_type": "execute_result"
    }
   ],
   "source": [
    "np.floor(a/b**full_digits)"
   ]
  },
  {
   "cell_type": "code",
   "execution_count": null,
   "id": "be439d0c",
   "metadata": {},
   "outputs": [],
   "source": []
  }
 ],
 "metadata": {
  "kernelspec": {
   "display_name": "Python (keras-env)",
   "language": "python",
   "name": "keras-env"
  },
  "language_info": {
   "codemirror_mode": {
    "name": "ipython",
    "version": 3
   },
   "file_extension": ".py",
   "mimetype": "text/x-python",
   "name": "python",
   "nbconvert_exporter": "python",
   "pygments_lexer": "ipython3",
   "version": "3.8.11"
  }
 },
 "nbformat": 4,
 "nbformat_minor": 5
}
