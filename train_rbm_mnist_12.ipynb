{
 "cells": [
  {
   "cell_type": "code",
   "execution_count": 1,
   "id": "c7dc1002",
   "metadata": {},
   "outputs": [],
   "source": [
    "import sys\n",
    "sys.path.append('Restricted-Boltzmann-Machine/')\n",
    "import RBM\n",
    "from keras.datasets import mnist\n",
    "import matplotlib.pyplot as plt\n",
    "import numpy as np\n",
    "from time import time\n",
    "from math import ceil"
   ]
  },
  {
   "cell_type": "code",
   "execution_count": 2,
   "id": "e1f77bad",
   "metadata": {},
   "outputs": [],
   "source": [
    "(train_x, train_y), (test_x, test_y) = mnist.load_data()\n",
    "\n",
    "train_x = train_x.reshape(60000,-1)/255"
   ]
  },
  {
   "cell_type": "code",
   "execution_count": 3,
   "id": "b7fbcef6",
   "metadata": {},
   "outputs": [
    {
     "data": {
      "text/plain": [
       "((60000, 784), (60000,))"
      ]
     },
     "execution_count": 3,
     "metadata": {},
     "output_type": "execute_result"
    }
   ],
   "source": [
    "train_x.shape, train_y.shape"
   ]
  },
  {
   "cell_type": "code",
   "execution_count": 4,
   "id": "5e651f3e",
   "metadata": {},
   "outputs": [
    {
     "data": {
      "text/plain": [
       "(dtype('float64'), 0.0, 1.0)"
      ]
     },
     "execution_count": 4,
     "metadata": {},
     "output_type": "execute_result"
    }
   ],
   "source": [
    "\n",
    "train_x.dtype, train_x.min(), train_x.max()"
   ]
  },
  {
   "cell_type": "code",
   "execution_count": 6,
   "id": "242f5cd4",
   "metadata": {},
   "outputs": [
    {
     "data": {
      "image/png": "[encoded data removed]",
      "text/plain": [
       "<Figure size 432x288 with 1 Axes>"
      ]
     },
     "metadata": {
      "needs_background": "light"
     },
     "output_type": "display_data"
    }
   ],
   "source": [
    "ret= plt.hist(train_x.reshape(-1),density=True)\n"
   ]
  },
  {
   "cell_type": "code",
   "execution_count": 7,
   "id": "a9249e3a",
   "metadata": {},
   "outputs": [
    {
     "data": {
      "text/plain": [
       "array([210.59107239,   3.1001148 ,   2.78720312,   2.37451945,\n",
       "         2.42122066,   2.81216103,   2.46142219,   2.81195504,\n",
       "         3.31684311,  22.3234882 ])"
      ]
     },
     "execution_count": 7,
     "metadata": {},
     "output_type": "execute_result"
    }
   ],
   "source": [
    "ret[0]*25.5"
   ]
  },
  {
   "cell_type": "code",
   "execution_count": 7,
   "id": "3ac139d9",
   "metadata": {},
   "outputs": [
    {
     "data": {
      "text/plain": [
       "array([0. , 0.1, 0.2, 0.3, 0.4, 0.5, 0.6, 0.7, 0.8, 0.9, 1. ])"
      ]
     },
     "execution_count": 7,
     "metadata": {},
     "output_type": "execute_result"
    }
   ],
   "source": [
    "ret[1]"
   ]
  },
  {
   "cell_type": "code",
   "execution_count": 8,
   "id": "48e76271",
   "metadata": {},
   "outputs": [
    {
     "data": {
      "text/plain": [
       "<BarContainer object of 10 artists>"
      ]
     },
     "execution_count": 8,
     "metadata": {},
     "output_type": "execute_result"
    }
   ],
   "source": [
    "ret[2]"
   ]
  },
  {
   "cell_type": "code",
   "execution_count": 9,
   "id": "3dcf57fe",
   "metadata": {},
   "outputs": [
    {
     "data": {
      "text/plain": [
       "2550.0"
      ]
     },
     "execution_count": 9,
     "metadata": {},
     "output_type": "execute_result"
    }
   ],
   "source": [
    "ret[0].sum()*255"
   ]
  },
  {
   "cell_type": "code",
   "execution_count": 8,
   "id": "cb7efe68",
   "metadata": {},
   "outputs": [],
   "source": [
    "from collections import Counter"
   ]
  },
  {
   "cell_type": "code",
   "execution_count": 9,
   "id": "13e46d92",
   "metadata": {},
   "outputs": [],
   "source": [
    "_, cnts = np.unique(train_x.reshape(-1),return_counts=True)"
   ]
  },
  {
   "cell_type": "code",
   "execution_count": 10,
   "id": "9df10569",
   "metadata": {},
   "outputs": [
    {
     "data": {
      "text/plain": [
       "'38,045,844 6,697,502 '"
      ]
     },
     "execution_count": 10,
     "metadata": {},
     "output_type": "execute_result"
    }
   ],
   "source": [
    "(\"{:,} \"*2).format(cnts[0], cnts[100:].sum())"
   ]
  },
  {
   "cell_type": "markdown",
   "id": "2f6d023d",
   "metadata": {},
   "source": [
    "## Create and train an RBM\n",
    "- number of visible nodes: 728 (size of image)\n",
    "- number of hidden nodes: 64"
   ]
  },
  {
   "cell_type": "code",
   "execution_count": 11,
   "id": "8620a096",
   "metadata": {},
   "outputs": [],
   "source": [
    "rbm = RBM.RBM(n_vis=784, n_hid = 64)\n"
   ]
  },
  {
   "cell_type": "code",
   "execution_count": 12,
   "id": "7ad94070",
   "metadata": {},
   "outputs": [],
   "source": [
    "\n",
    "\n",
    "def get_batches(data, batch_size, shuffle=False):\n",
    "    '''\n",
    "    Function to provide data in batches.\n",
    "    input:\n",
    "        - data: The data to be batched, each sample in one row.\n",
    "        - batch_size: Size of one batch (last batch might be smaller)\n",
    "        - shuffle: True if data should be shuffled.\n",
    "    '''\n",
    "    if(shuffle):\n",
    "        np.random.shuffle(data)\n",
    "    if(batch_size == -1):\n",
    "        batch_size = len(data)\n",
    "    num_batches = ceil(data.shape[0]/batch_size)\n",
    "    for batch_num in range(num_batches):\n",
    "        yield data[batch_num*batch_size:(batch_num+1)*batch_size]\n",
    "\n"
   ]
  },
  {
   "cell_type": "code",
   "execution_count": 15,
   "id": "c628a51f",
   "metadata": {},
   "outputs": [
    {
     "name": "stdout",
     "output_type": "stream",
     "text": [
      "epoch:1 \t error:27615.2425 \t training time:5.65 s\n",
      "epoch:2 \t error:22210.3153 \t training time:11.23 s\n",
      "epoch:3 \t error:21952.9014 \t training time:16.99 s\n",
      "epoch:4 \t error:22002.6604 \t training time:22.71 s\n",
      "epoch:5 \t error:22090.6511 \t training time:28.35 s\n",
      "epoch:6 \t error:22098.2533 \t training time:33.98 s\n",
      "epoch:7 \t error:21969.7258 \t training time:39.69 s\n",
      "epoch:8 \t error:22010.8012 \t training time:45.33 s\n",
      "epoch:9 \t error:22304.3676 \t training time:51.05 s\n",
      "epoch:10 \t error:22498.1588 \t training time:56.70 s\n",
      "epoch:11 \t error:22633.5026 \t training time:62.33 s\n",
      "epoch:12 \t error:22781.5942 \t training time:67.97 s\n",
      "epoch:13 \t error:22830.7101 \t training time:73.60 s\n",
      "epoch:14 \t error:22843.1096 \t training time:79.29 s\n",
      "epoch:15 \t error:22820.4331 \t training time:85.03 s\n",
      "epoch:16 \t error:22790.2459 \t training time:90.66 s\n",
      "epoch:17 \t error:22740.0109 \t training time:96.28 s\n",
      "epoch:18 \t error:22701.2954 \t training time:101.91 s\n",
      "epoch:19 \t error:22672.1240 \t training time:107.55 s\n",
      "epoch:20 \t error:22645.0749 \t training time:113.18 s\n"
     ]
    }
   ],
   "source": [
    "# Some parameters to set\n",
    "batch_size = 100\n",
    "num_epochs = 20\n",
    "lr = 0.1\n",
    "burn_in = 0\n",
    "num_steps = 1\n",
    "\n",
    "np.random.seed(44)\n",
    "# Our RBM object\n",
    "rbm = RBM.RBM(n_vis=28*28, n_hid=12)\n",
    "\n",
    "\n",
    "# Training loop\n",
    "errors = []\n",
    "free_energies_val = []\n",
    "free_energies_train = []\n",
    "start_time = time()\n",
    "\n",
    "# plot_images(rbm, selected_imgs, \n",
    "#             title=\"Reconstructed Images    Epoch: 0\",\n",
    "#             save_as=\"recon_\" + str(0))\n",
    "\n",
    "for epoch in range(1, num_epochs+1):\n",
    "    iteration = 0\n",
    "    error = 0\n",
    "    for batch in get_batches(train_x, batch_size, shuffle=True):\n",
    "        iteration += 1\n",
    "   \n",
    "        # Compute gradients and errors\n",
    "        error += rbm.compute_error_and_grads(batch, burn_in=burn_in, num_steps=num_steps)\n",
    "        \n",
    "        # Update parameters - use momentum as explained in Hinton's guide\n",
    "        \n",
    "        if(epoch > 5):\n",
    "            rbm.update_params(lr, momentum=0.1)\n",
    "        else:\n",
    "            rbm.update_params(lr, momentum=0.3)\n",
    "        \n",
    "    #plot_images(rbm, selected_imgs, \n",
    "    #        title=\"Reconstructed Images    Epoch: {}\".format(epoch),\n",
    "    #        save_as=\"recon_\" + str(epoch))\n",
    "        \n",
    "    print(\"epoch:{} \\t error:{:.4f} \\t training time:{:.2f} s\".format(epoch, error, time()-start_time))\n",
    "    errors.append(error)\n",
    "\n"
   ]
  },
  {
   "cell_type": "code",
   "execution_count": 16,
   "id": "2623a312",
   "metadata": {},
   "outputs": [
    {
     "data": {
      "text/plain": [
       "[<matplotlib.lines.Line2D at 0x7fef06a89700>]"
      ]
     },
     "execution_count": 16,
     "metadata": {},
     "output_type": "execute_result"
    },
    {
     "data": {
      "image/png": "[encoded data removed]",
      "text/plain": [
       "<Figure size 432x288 with 1 Axes>"
      ]
     },
     "metadata": {
      "needs_background": "light"
     },
     "output_type": "display_data"
    }
   ],
   "source": [
    "plt.plot(errors)"
   ]
  },
  {
   "cell_type": "code",
   "execution_count": 17,
   "id": "55ce2a87",
   "metadata": {},
   "outputs": [],
   "source": [
    "\n",
    "\n",
    "def plot_weights(rbm, title='weights', save_as=\"weights\"):\n",
    "    '''\n",
    "    Plot the weight parameter of the RBM, one for each hidden unit.\n",
    "    '''\n",
    "    plt.clf()\n",
    "    fig, axes = plt.subplots(4, 3, gridspec_kw = {'wspace':0.1, 'hspace':0.1}, figsize=(8, 8))\n",
    "    fig.suptitle(title)\n",
    "    for i in range(4):\n",
    "        for j in range(3):\n",
    "            axes[i, j].imshow(rbm.W[:,i*3+j].reshape(28, 28), cmap='gray')\n",
    "            axes[i, j].axis('off')\n",
    "\n",
    "    plt.savefig(save_as)\n",
    "    plt.show()\n",
    "    plt.close()\n",
    "\n"
   ]
  },
  {
   "cell_type": "code",
   "execution_count": 18,
   "id": "0475d190",
   "metadata": {},
   "outputs": [
    {
     "data": {
      "text/plain": [
       "<Figure size 432x288 with 0 Axes>"
      ]
     },
     "metadata": {},
     "output_type": "display_data"
    },
    {
     "data": {
      "image/png": "[encoded data removed]",
      "text/plain": [
       "<Figure size 576x576 with 12 Axes>"
      ]
     },
     "metadata": {
      "needs_background": "light"
     },
     "output_type": "display_data"
    }
   ],
   "source": [
    "plot_weights(rbm)"
   ]
  },
  {
   "cell_type": "code",
   "execution_count": null,
   "id": "22fb944f",
   "metadata": {},
   "outputs": [],
   "source": []
  }
 ],
 "metadata": {
  "kernelspec": {
   "display_name": "Python (keras-env)",
   "language": "python",
   "name": "keras-env"
  },
  "language_info": {
   "codemirror_mode": {
    "name": "ipython",
    "version": 3
   },
   "file_extension": ".py",
   "mimetype": "text/x-python",
   "name": "python",
   "nbconvert_exporter": "python",
   "pygments_lexer": "ipython3",
   "version": "3.8.11"
  }
 },
 "nbformat": 4,
 "nbformat_minor": 5
}
